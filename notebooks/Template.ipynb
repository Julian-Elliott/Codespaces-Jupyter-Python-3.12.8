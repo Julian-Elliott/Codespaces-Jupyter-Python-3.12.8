{
 "cells": [
  {
   "cell_type": "code",
   "execution_count": 5,
   "id": "a7d595f5-51a3-4148-9c25-81d6893cad65",
   "metadata": {},
   "outputs": [
    {
     "name": "stdout",
     "output_type": "stream",
     "text": [
      "This is python version 3.12.8\n"
     ]
    }
   ],
   "source": [
    "import platform\n",
    "print(f'This is python version {platform.python_version()}')"
   ]
  },
  {
   "cell_type": "code",
   "execution_count": null,
   "id": "bf4832cc-4b55-466b-9706-d2fe1b2b8762",
   "metadata": {},
   "outputs": [],
   "source": []
  }
 ],
 "metadata": {
  "kernelspec": {
   "display_name": "Python 3 (ipykernel)",
   "language": "python",
   "name": "python3"
  },
  "language_info": {
   "codemirror_mode": {
    "name": "ipython",
    "version": 3
   },
   "file_extension": ".py",
   "mimetype": "text/x-python",
   "name": "python",
   "nbconvert_exporter": "python",
   "pygments_lexer": "ipython3",
   "version": "3.12.8"
  }
 },
 "nbformat": 4,
 "nbformat_minor": 5
}
